{
 "cells": [
  {
   "cell_type": "code",
   "execution_count": 2,
   "metadata": {},
   "outputs": [],
   "source": [
    "import pandas as pd\n",
    "\n",
    "# read data into the DataFrame\n",
    "left = pd.read_csv('/home/ctand/EnergyVision/data/processed/COASTCONSUMPTION.csv')\n",
    "right = pd.read_csv('/home/ctand/EnergyVision/data/processed/weather_cleaned.csv')\n",
    "\n",
    "merged_data = left.merge(right, on='date', how='inner')\n",
    "\n",
    "merged_data.to_csv('/home/ctand/EnergyVision/data/processed/MERGEDDATA.csv')"
   ]
  },
  {
   "cell_type": "code",
   "execution_count": null,
   "metadata": {},
   "outputs": [],
   "source": [
    "\n"
   ]
  }
 ],
 "metadata": {
  "kernelspec": {
   "display_name": "venv",
   "language": "python",
   "name": "python3"
  },
  "language_info": {
   "codemirror_mode": {
    "name": "ipython",
    "version": 3
   },
   "file_extension": ".py",
   "mimetype": "text/x-python",
   "name": "python",
   "nbconvert_exporter": "python",
   "pygments_lexer": "ipython3",
   "version": "3.12.3"
  }
 },
 "nbformat": 4,
 "nbformat_minor": 2
}
