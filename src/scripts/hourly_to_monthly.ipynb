{
 "cells": [
  {
   "cell_type": "code",
   "execution_count": 1,
   "metadata": {},
   "outputs": [
    {
     "name": "stdout",
     "output_type": "stream",
     "text": [
      "        date        COAST  Farenheit_Temperature  Inches_Rain\n",
      "0 2024-01-31   8982317.87            7545.908581        307.2\n",
      "1 2024-02-29   7566228.06           10532.485600         59.4\n",
      "2 2024-03-31   8220532.19           13207.728141         96.3\n",
      "3 2024-04-30   8664251.07           15090.385126        180.3\n",
      "4 2024-05-31  10402761.35           18259.334647        293.8\n"
     ]
    },
    {
     "name": "stderr",
     "output_type": "stream",
     "text": [
      "/tmp/ipykernel_1049/2574921513.py:7: FutureWarning: 'M' is deprecated and will be removed in a future version, please use 'ME' instead.\n",
      "  monthly_data = df.resample('M').sum()\n"
     ]
    }
   ],
   "source": [
    "import pandas as pd\n",
    "\n",
    "df = pd.read_csv('/home/ctand/EnergyVision/data/processed/MERGEDDATA.csv', index_col = 0)\n",
    "\n",
    "df['date'] = pd.to_datetime(df['date'])\n",
    "df.set_index('date', inplace=True)\n",
    "monthly_data = df.resample('M').sum()\n",
    "monthly_data.reset_index(inplace=True)\n",
    "print(monthly_data.head())\n",
    "monthly_data.to_csv('/home/ctand/EnergyVision/data/processed/MONTHLYDATA.csv')"
   ]
  }
 ],
 "metadata": {
  "kernelspec": {
   "display_name": "venv",
   "language": "python",
   "name": "python3"
  },
  "language_info": {
   "codemirror_mode": {
    "name": "ipython",
    "version": 3
   },
   "file_extension": ".py",
   "mimetype": "text/x-python",
   "name": "python",
   "nbconvert_exporter": "python",
   "pygments_lexer": "ipython3",
   "version": "3.12.3"
  }
 },
 "nbformat": 4,
 "nbformat_minor": 2
}
